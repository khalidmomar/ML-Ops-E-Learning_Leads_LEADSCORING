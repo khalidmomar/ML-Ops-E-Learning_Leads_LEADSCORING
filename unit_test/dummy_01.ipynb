{
 "cells": [
  {
   "cell_type": "markdown",
   "id": "75178fef",
   "metadata": {},
   "source": [
    "Dummy notebook file to test working of utils.py"
   ]
  },
  {
   "cell_type": "code",
   "execution_count": 1,
   "id": "e43c4c66",
   "metadata": {},
   "outputs": [],
   "source": [
    "# Load functions from util.py\n",
    "from utils import *"
   ]
  },
  {
   "cell_type": "code",
   "execution_count": 2,
   "id": "8be116c6",
   "metadata": {},
   "outputs": [],
   "source": [
    "# Load functions from data_validation_checks.py\n",
    "from data_validation_checks import *"
   ]
  },
  {
   "cell_type": "code",
   "execution_count": 3,
   "id": "4082a407",
   "metadata": {},
   "outputs": [
    {
     "name": "stdout",
     "output_type": "stream",
     "text": [
      "DB Already exists\n",
      "/home/Assignment/01_data_pipeline/unit_test\n"
     ]
    },
    {
     "data": {
      "text/plain": [
       "'DB exists'"
      ]
     },
     "execution_count": 3,
     "metadata": {},
     "output_type": "execute_result"
    }
   ],
   "source": [
    "# Call build_dbs() function\n",
    "build_dbs()"
   ]
  },
  {
   "cell_type": "code",
   "execution_count": 4,
   "id": "979d1204",
   "metadata": {},
   "outputs": [
    {
     "name": "stdout",
     "output_type": "stream",
     "text": [
      "Raw datas schema is in line with the schema present in schema.py\n"
     ]
    }
   ],
   "source": [
    "# Call raw_data_schema_check() function\n",
    "raw_data_schema_check()"
   ]
  },
  {
   "cell_type": "code",
   "execution_count": 5,
   "id": "7ce79a5e-042a-49e0-8b0d-eb152c20e507",
   "metadata": {},
   "outputs": [],
   "source": [
    "df = pd.read_csv(CSV_FILE,index_col=[0])"
   ]
  },
  {
   "cell_type": "code",
   "execution_count": 14,
   "id": "b451d56a",
   "metadata": {},
   "outputs": [
    {
     "name": "stdout",
     "output_type": "stream",
     "text": [
      "loaded_data has been already created\n"
     ]
    }
   ],
   "source": [
    "# Call load_data_into_db() function\n",
    "load_data_into_db()"
   ]
  },
  {
   "cell_type": "code",
   "execution_count": 15,
   "id": "142a8610",
   "metadata": {},
   "outputs": [
    {
     "name": "stdout",
     "output_type": "stream",
     "text": [
      "city_tier_mapped has been already created\n"
     ]
    }
   ],
   "source": [
    "# Call map_city_tier() function\n",
    "map_city_tier()"
   ]
  },
  {
   "cell_type": "code",
   "execution_count": 16,
   "id": "8b9f45e2",
   "metadata": {},
   "outputs": [
    {
     "name": "stdout",
     "output_type": "stream",
     "text": [
      "categorical_variables_mapped has been already created\n"
     ]
    }
   ],
   "source": [
    "# Call map_categorical_vars() function\n",
    "map_categorical_vars()"
   ]
  },
  {
   "cell_type": "code",
   "execution_count": 17,
   "id": "0cfebbab",
   "metadata": {},
   "outputs": [
    {
     "name": "stdout",
     "output_type": "stream",
     "text": [
      "model_input and interactions_mapped have already been created\n"
     ]
    }
   ],
   "source": [
    "# Call interactions_mapping() function\n",
    "interactions_mapping()"
   ]
  },
  {
   "cell_type": "code",
   "execution_count": 18,
   "id": "7b7c034b",
   "metadata": {},
   "outputs": [
    {
     "name": "stdout",
     "output_type": "stream",
     "text": [
      "Models input schema is in line with the schema present in schema.py\n"
     ]
    }
   ],
   "source": [
    "# Call model_input_schema_check() function\n",
    "model_input_schema_check()"
   ]
  },
  {
   "cell_type": "code",
   "execution_count": null,
   "id": "6077aa8a-b24f-4e21-bf95-da64c6747559",
   "metadata": {},
   "outputs": [],
   "source": []
  }
 ],
 "metadata": {
  "kernelspec": {
   "display_name": "Python 3 (ipykernel)",
   "language": "python",
   "name": "python3"
  },
  "language_info": {
   "codemirror_mode": {
    "name": "ipython",
    "version": 3
   },
   "file_extension": ".py",
   "mimetype": "text/x-python",
   "name": "python",
   "nbconvert_exporter": "python",
   "pygments_lexer": "ipython3",
   "version": "3.8.12"
  }
 },
 "nbformat": 4,
 "nbformat_minor": 5
}
